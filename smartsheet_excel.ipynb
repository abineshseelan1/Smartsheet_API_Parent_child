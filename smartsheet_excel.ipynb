{
 "cells": [
  {
   "cell_type": "code",
   "execution_count": 144,
   "metadata": {},
   "outputs": [],
   "source": [
    "import smartsheet\n",
    "import pandas as pd \n",
    "import openpyxl\n",
    "from cryptography.fernet import Fernet\n",
    "import os"
   ]
  },
  {
   "cell_type": "code",
   "execution_count": 145,
   "metadata": {},
   "outputs": [
    {
     "name": "stdout",
     "output_type": "stream",
     "text": [
      "    c1r1   c2r1   c3r1   c4r1   c5r1   c6r1   c7r1   c8r1\n",
      "0   c1r2   c2r2   c3r2   c4r2   c5r2   c6r2   c7r2   c8r2\n",
      "1   c1r3   c2r3   c3r3   c4r3   c5r3   c6r3   c7r3   c8r3\n",
      "2   c1r4   c2r4   c3r4   c4r4   c5r4   c6r4   c7r4   c8r4\n",
      "3   c1r5   c2r5   c3r5   c4r5   c5r5   c6r5   c7r5   c8r5\n",
      "4   c1r6   c2r6   c3r6   c4r6   c5r6   c6r6   c7r6   c8r6\n",
      "5   c1r7   c2r7   c3r7   c4r7   c5r7   c6r7   c7r7   c8r7\n",
      "6   c1r8   c2r8   c3r8   c4r8   c5r8   c6r8   c7r8   c8r8\n",
      "7   c1r9   c2r9   c3r9   c4r9   c5r9   c6r9   c7r9   c8r9\n",
      "8  c1r10  c2r10  c3r10  c4r10  c5r10  c6r10  c7r10  c8r10\n"
     ]
    }
   ],
   "source": [
    "#Excel file path\n",
    "#Excel_file_path = r\"C:\\Users\\abinesh.seelan\\Documents\\smartsheet_API\\smartsheet_excel\\excel1.xlsx\"\n",
    "\n",
    "#Smartsheet folder \n",
    "Abinesh_smartsheet_id = '8801184153659268'\n",
    "\n",
    "#new smartsheet to create\n",
    "new_smartsheet_name = 'Smartsheet_imported'\n",
    "\n",
    "#load excel to pandas dataframe\n",
    "source_sheet = pd.read_excel(r\"C:\\Users\\abinesh.seelan\\Documents\\smartsheet_API\\smartsheet_excel\\excel1.xlsx\",engine='openpyxl')\n",
    "print(source_sheet)\n",
    "\n",
    "\n",
    "\n",
    "\n"
   ]
  },
  {
   "cell_type": "code",
   "execution_count": 146,
   "metadata": {},
   "outputs": [],
   "source": [
    "token = bytes(os.environ.get(\"SMARTSHEET_TOKEN\"),'utf-8')"
   ]
  },
  {
   "cell_type": "code",
   "execution_count": 147,
   "metadata": {},
   "outputs": [],
   "source": [
    "key = os.environ.get(\"SMARTSHEET_KEY\")"
   ]
  },
  {
   "cell_type": "code",
   "execution_count": 148,
   "metadata": {},
   "outputs": [],
   "source": [
    "fernet_obj = Fernet(key)\n",
    "smartsheet_token = (fernet_obj.decrypt(token).decode(\"utf-8\"))\n",
    "smart = smartsheet.Smartsheet(access_token=smartsheet_token)\n",
    "smart.errors_as_exceptions(True)\n"
   ]
  },
  {
   "cell_type": "code",
   "execution_count": 149,
   "metadata": {},
   "outputs": [],
   "source": [
    "def smartsheet_column(list):\n",
    "    column_dict_list = []\n",
    "    for column_name, i in zip(list, range(len(list))):\n",
    "        column_dict = {}\n",
    "        if i == 0:\n",
    "            column_dict['primary'] = True\n",
    "        column_dict['title'] = column_name\n",
    "        column_dict['type'] = 'TEXT_NUMBER'\n",
    "        column_dict_list.append(column_dict)\n",
    "    return column_dict_list"
   ]
  },
  {
   "cell_type": "code",
   "execution_count": 150,
   "metadata": {},
   "outputs": [],
   "source": [
    "#grab all the names of the columns from the excel sheet\n",
    "columns = smartsheet_column(source_sheet.columns)"
   ]
  },
  {
   "cell_type": "code",
   "execution_count": 151,
   "metadata": {},
   "outputs": [],
   "source": [
    "#Create the sheet specifications\n",
    "sheet_spec = smartsheet.models.Sheet({\n",
    "  'name': 'new sheet1',\n",
    "  'columns': columns\n",
    "})"
   ]
  },
  {
   "cell_type": "code",
   "execution_count": 152,
   "metadata": {},
   "outputs": [],
   "source": [
    "#create the new folder and store the information about the new sheet in a variable called 'new_sheet'\n",
    "response = smart.Folders.create_sheet_in_folder(\n",
    "  Abinesh_smartsheet_id,       # folder_id\n",
    "  sheet_spec)\n",
    "new_sheet = response.result"
   ]
  },
  {
   "cell_type": "code",
   "execution_count": 153,
   "metadata": {},
   "outputs": [],
   "source": [
    "#take the sheet_id just created and assign it to a variable called sheet_id\n",
    "sheet_id = new_sheet.to_dict().get('id')"
   ]
  },
  {
   "cell_type": "code",
   "execution_count": 154,
   "metadata": {},
   "outputs": [],
   "source": [
    "#create a list of column_ids\n",
    "column_id_list = []\n",
    "for i in new_sheet.to_dict().get('columns'):\n",
    "    column_id_list.append(i.get('id'))"
   ]
  },
  {
   "cell_type": "code",
   "execution_count": 155,
   "metadata": {},
   "outputs": [],
   "source": [
    "#convert the pandas dataframe information to a list of lists, with each list have information from each row.\n",
    "rows = source_sheet.values.tolist()"
   ]
  },
  {
   "cell_type": "code",
   "execution_count": 156,
   "metadata": {},
   "outputs": [],
   "source": [
    "#take the row information, column ids and sheet id and upload them to smartsheet.\n",
    "for row in rows:\n",
    "    new_row = smart.models.Row()\n",
    "    new_row.to_bottom = True\n",
    "    for item, column_id in zip(row, column_id_list):\n",
    "        new_row.cells.append({\n",
    "            'column_id': column_id,\n",
    "            'value':item,\n",
    "            'strict': False\n",
    "        })\n",
    "    response = smart.Sheets.add_rows(sheet_id, [new_row])"
   ]
  },
  {
   "cell_type": "code",
   "execution_count": 157,
   "metadata": {},
   "outputs": [
    {
     "data": {
      "text/plain": [
       "[<smartsheet.models.column.Column at 0x1edd7d430a0>,\n",
       " <smartsheet.models.column.Column at 0x1edd704d3d0>,\n",
       " <smartsheet.models.column.Column at 0x1edd81e3580>,\n",
       " <smartsheet.models.column.Column at 0x1edd81e8760>,\n",
       " <smartsheet.models.column.Column at 0x1edd81e8f10>,\n",
       " <smartsheet.models.column.Column at 0x1edd81e0700>,\n",
       " <smartsheet.models.column.Column at 0x1edd81e0eb0>,\n",
       " <smartsheet.models.column.Column at 0x1edd704fac0>,\n",
       " <smartsheet.models.column.Column at 0x1edd704fe80>]"
      ]
     },
     "execution_count": 157,
     "metadata": {},
     "output_type": "execute_result"
    }
   ],
   "source": [
    "#get cloumns\n",
    "response = smart.Sheets.get_columns(\n",
    "  2764093019973508,       # sheet_id\n",
    "  include_all=True)\n",
    "columns = response.data\n",
    "columns\n"
   ]
  },
  {
   "cell_type": "code",
   "execution_count": 158,
   "metadata": {},
   "outputs": [],
   "source": [
    "#get sheet information\n"
   ]
  },
  {
   "cell_type": "code",
   "execution_count": 251,
   "metadata": {},
   "outputs": [],
   "source": [
    "row_update = smart.models.Row()\n",
    "row_update.id = 2253000191174532\n",
    "row_update.parentId =2243494354806660\n",
    "toTop = True\n",
    "    \n",
    "updated_row = smart.Sheets.update_rows(2764093019973508,[row_update])"
   ]
  },
  {
   "cell_type": "code",
   "execution_count": 220,
   "metadata": {},
   "outputs": [
    {
     "name": "stdout",
     "output_type": "stream",
     "text": [
      "{\"cells\": [{\"columnId\": 5888876854175620, \"displayValue\": \"2\", \"value\": 2.0}, {\"columnId\": 3649714042234756, \"displayValue\": \"c1r6\", \"value\": \"c1r6\"}, {\"columnId\": 8153313669605252, \"displayValue\": \"c2r6\", \"value\": \"c2r6\"}, {\"columnId\": 834964275128196, \"displayValue\": \"c3r6\", \"value\": \"c3r6\"}, {\"columnId\": 5338563902498692, \"displayValue\": \"c4r6\", \"value\": \"c4r6\"}, {\"columnId\": 3086764088813444, \"displayValue\": \"c5r6\", \"value\": \"c5r6\"}, {\"columnId\": 7590363716183940, \"displayValue\": \"c6r6\", \"value\": \"c6r6\"}, {\"columnId\": 1960864181970820, \"displayValue\": \"c7r6\", \"value\": \"c7r6\"}, {\"columnId\": 6464463809341316, \"displayValue\": \"c8r6\", \"value\": \"c8r6\"}], \"createdAt\": \"2022-03-28T15:45:02+00:00Z\", \"expanded\": true, \"id\": 2253000191174532, \"modifiedAt\": \"2022-03-29T16:56:05+00:00Z\", \"rowNumber\": 5, \"siblingId\": 2243494354806660}\n"
     ]
    }
   ],
   "source": [
    "sheet = smart.Sheets.get_sheet(2764093019973508)           # sheet_id\n",
    "print(sheet.rows[4])"
   ]
  },
  {
   "cell_type": "code",
   "execution_count": 250,
   "metadata": {},
   "outputs": [
    {
     "data": {
      "text/html": [
       "<div>\n",
       "<style scoped>\n",
       "    .dataframe tbody tr th:only-of-type {\n",
       "        vertical-align: middle;\n",
       "    }\n",
       "\n",
       "    .dataframe tbody tr th {\n",
       "        vertical-align: top;\n",
       "    }\n",
       "\n",
       "    .dataframe thead th {\n",
       "        text-align: right;\n",
       "    }\n",
       "</style>\n",
       "<table border=\"1\" class=\"dataframe\">\n",
       "  <thead>\n",
       "    <tr style=\"text-align: right;\">\n",
       "      <th></th>\n",
       "      <th>autoNumberFormat</th>\n",
       "      <th>id</th>\n",
       "      <th>index</th>\n",
       "      <th>systemColumnType</th>\n",
       "      <th>title</th>\n",
       "      <th>type</th>\n",
       "      <th>validation</th>\n",
       "      <th>version</th>\n",
       "      <th>width</th>\n",
       "      <th>primary</th>\n",
       "    </tr>\n",
       "  </thead>\n",
       "  <tbody>\n",
       "    <tr>\n",
       "      <th>0</th>\n",
       "      <td>{'fill': '0', 'prefix': '', 'suffix': ''}</td>\n",
       "      <td>5888876854175620</td>\n",
       "      <td>0</td>\n",
       "      <td>AUTO_NUMBER</td>\n",
       "      <td>Hierarchy</td>\n",
       "      <td>TEXT_NUMBER</td>\n",
       "      <td>False</td>\n",
       "      <td>0</td>\n",
       "      <td>150</td>\n",
       "      <td>NaN</td>\n",
       "    </tr>\n",
       "    <tr>\n",
       "      <th>1</th>\n",
       "      <td>NaN</td>\n",
       "      <td>3649714042234756</td>\n",
       "      <td>1</td>\n",
       "      <td>NaN</td>\n",
       "      <td>c1r1</td>\n",
       "      <td>TEXT_NUMBER</td>\n",
       "      <td>False</td>\n",
       "      <td>0</td>\n",
       "      <td>150</td>\n",
       "      <td>True</td>\n",
       "    </tr>\n",
       "    <tr>\n",
       "      <th>2</th>\n",
       "      <td>NaN</td>\n",
       "      <td>8153313669605252</td>\n",
       "      <td>2</td>\n",
       "      <td>NaN</td>\n",
       "      <td>c2r1</td>\n",
       "      <td>TEXT_NUMBER</td>\n",
       "      <td>False</td>\n",
       "      <td>0</td>\n",
       "      <td>150</td>\n",
       "      <td>NaN</td>\n",
       "    </tr>\n",
       "    <tr>\n",
       "      <th>3</th>\n",
       "      <td>NaN</td>\n",
       "      <td>834964275128196</td>\n",
       "      <td>3</td>\n",
       "      <td>NaN</td>\n",
       "      <td>c3r1</td>\n",
       "      <td>TEXT_NUMBER</td>\n",
       "      <td>False</td>\n",
       "      <td>0</td>\n",
       "      <td>150</td>\n",
       "      <td>NaN</td>\n",
       "    </tr>\n",
       "    <tr>\n",
       "      <th>4</th>\n",
       "      <td>NaN</td>\n",
       "      <td>5338563902498692</td>\n",
       "      <td>4</td>\n",
       "      <td>NaN</td>\n",
       "      <td>c4r1</td>\n",
       "      <td>TEXT_NUMBER</td>\n",
       "      <td>False</td>\n",
       "      <td>0</td>\n",
       "      <td>150</td>\n",
       "      <td>NaN</td>\n",
       "    </tr>\n",
       "    <tr>\n",
       "      <th>5</th>\n",
       "      <td>NaN</td>\n",
       "      <td>3086764088813444</td>\n",
       "      <td>5</td>\n",
       "      <td>NaN</td>\n",
       "      <td>c5r1</td>\n",
       "      <td>TEXT_NUMBER</td>\n",
       "      <td>False</td>\n",
       "      <td>0</td>\n",
       "      <td>150</td>\n",
       "      <td>NaN</td>\n",
       "    </tr>\n",
       "    <tr>\n",
       "      <th>6</th>\n",
       "      <td>NaN</td>\n",
       "      <td>7590363716183940</td>\n",
       "      <td>6</td>\n",
       "      <td>NaN</td>\n",
       "      <td>c6r1</td>\n",
       "      <td>TEXT_NUMBER</td>\n",
       "      <td>False</td>\n",
       "      <td>0</td>\n",
       "      <td>150</td>\n",
       "      <td>NaN</td>\n",
       "    </tr>\n",
       "    <tr>\n",
       "      <th>7</th>\n",
       "      <td>NaN</td>\n",
       "      <td>1960864181970820</td>\n",
       "      <td>7</td>\n",
       "      <td>NaN</td>\n",
       "      <td>c7r1</td>\n",
       "      <td>TEXT_NUMBER</td>\n",
       "      <td>False</td>\n",
       "      <td>0</td>\n",
       "      <td>150</td>\n",
       "      <td>NaN</td>\n",
       "    </tr>\n",
       "    <tr>\n",
       "      <th>8</th>\n",
       "      <td>NaN</td>\n",
       "      <td>6464463809341316</td>\n",
       "      <td>8</td>\n",
       "      <td>NaN</td>\n",
       "      <td>c8r1</td>\n",
       "      <td>TEXT_NUMBER</td>\n",
       "      <td>False</td>\n",
       "      <td>0</td>\n",
       "      <td>150</td>\n",
       "      <td>NaN</td>\n",
       "    </tr>\n",
       "  </tbody>\n",
       "</table>\n",
       "</div>"
      ],
      "text/plain": [
       "                            autoNumberFormat                id  index  \\\n",
       "0  {'fill': '0', 'prefix': '', 'suffix': ''}  5888876854175620      0   \n",
       "1                                        NaN  3649714042234756      1   \n",
       "2                                        NaN  8153313669605252      2   \n",
       "3                                        NaN   834964275128196      3   \n",
       "4                                        NaN  5338563902498692      4   \n",
       "5                                        NaN  3086764088813444      5   \n",
       "6                                        NaN  7590363716183940      6   \n",
       "7                                        NaN  1960864181970820      7   \n",
       "8                                        NaN  6464463809341316      8   \n",
       "\n",
       "  systemColumnType      title         type  validation  version  width primary  \n",
       "0      AUTO_NUMBER  Hierarchy  TEXT_NUMBER       False        0    150     NaN  \n",
       "1              NaN       c1r1  TEXT_NUMBER       False        0    150    True  \n",
       "2              NaN       c2r1  TEXT_NUMBER       False        0    150     NaN  \n",
       "3              NaN       c3r1  TEXT_NUMBER       False        0    150     NaN  \n",
       "4              NaN       c4r1  TEXT_NUMBER       False        0    150     NaN  \n",
       "5              NaN       c5r1  TEXT_NUMBER       False        0    150     NaN  \n",
       "6              NaN       c6r1  TEXT_NUMBER       False        0    150     NaN  \n",
       "7              NaN       c7r1  TEXT_NUMBER       False        0    150     NaN  \n",
       "8              NaN       c8r1  TEXT_NUMBER       False        0    150     NaN  "
      ]
     },
     "execution_count": 250,
     "metadata": {},
     "output_type": "execute_result"
    }
   ],
   "source": [
    "\n",
    "sheet = smart.Sheets.get_sheet(2764093019973508)           # sheet_id\n",
    "#print(sheet.to_dict().get(\"columns\"))\n",
    "column_matrix=pd.DataFrame.from_dict(sheet.to_dict().get(\"columns\"))\n",
    "column_matrix"
   ]
  },
  {
   "cell_type": "code",
   "execution_count": null,
   "metadata": {},
   "outputs": [],
   "source": [
    "sheet = smart.Sheets.get_sheet(2764093019973508) \n",
    "#print(sheet)\n",
    "print(sheet.to_dict().get(\"rows\"))"
   ]
  },
  {
   "cell_type": "code",
   "execution_count": null,
   "metadata": {},
   "outputs": [],
   "source": [
    "#method 1 to update parent-child\n",
    "row_spec =  smart.models.Row({\n",
    "    \"id\" : '2253000191174532',\n",
    "    \"displayValue\": \"c1r6a\",\n",
    "    \"value\": \"c1r6\"\n",
    "})\n",
    "\n",
    "response = smart.Sheets.update_rows(2764093019973508,row_spec)\n",
    "\n",
    "updated_row = response.result"
   ]
  },
  {
   "cell_type": "code",
   "execution_count": null,
   "metadata": {},
   "outputs": [],
   "source": [
    "#method 2 to update parent-child\n",
    "row_spec =  smart.models.Row({\n",
    "  \"id\": 2253000191174532,\n",
    "  \"sheetId\": 2764093019973508,\n",
    "  \"rowNumber\": 5,\n",
    "  \"parentId\": 2243494354806660,\n",
    "  \"version\": 0,\n",
    "}\n",
    "updated_row = smart.Sheets.update_rows(2764093019973508,row_spec)"
   ]
  },
  {
   "cell_type": "code",
   "execution_count": 239,
   "metadata": {},
   "outputs": [],
   "source": [
    "#method 3 to update parent-child\n",
    "new_cell = smart.models.Cell()\n",
    "new_cell.column_id = 3649714042234756\n",
    "new_cell.value = \"new value1\"\n",
    "new_cell.strict = False\n",
    "\n",
    "# Build the row to update\n",
    "new_row = smart.models.Row()\n",
    "new_row.id = 7937865267996548\n",
    "new_row.cells.append(new_cell)\n",
    "\n",
    "# Update rows\n",
    "updated_row = smart.Sheets.update_rows(\n",
    "  2764093019973508,      # sheet_id\n",
    "  [new_row])"
   ]
  },
  {
   "cell_type": "code",
   "execution_count": 257,
   "metadata": {},
   "outputs": [],
   "source": [
    "#Method 4 to update parent-child\n",
    "update_cell = smart.models.Cell()\n",
    "update_cell.column_id = 3649714042234756\n",
    "#update_cell.value = \"clr6c\"\n",
    "\n",
    "# Build the row to update\n",
    "update_row = smart.models.Row()\n",
    "update_row.id = 2253000191174532\n",
    "updated_row.parentID =2243494354806660\n",
    "#update_row.cells.append(update_cell)\n",
    "\n",
    "# Update rows\n",
    "updated_row = smart.Sheets.update_rows(\n",
    "  2764093019973508,      # sheet_id\n",
    "  [update_row])"
   ]
  }
 ],
 "metadata": {
  "interpreter": {
   "hash": "63fd5069d213b44bf678585dea6b12cceca9941eaf7f819626cde1f2670de90d"
  },
  "kernelspec": {
   "display_name": "Python 3.9.8 64-bit",
   "language": "python",
   "name": "python3"
  },
  "language_info": {
   "codemirror_mode": {
    "name": "ipython",
    "version": 3
   },
   "file_extension": ".py",
   "mimetype": "text/x-python",
   "name": "python",
   "nbconvert_exporter": "python",
   "pygments_lexer": "ipython3",
   "version": "3.9.8"
  },
  "orig_nbformat": 4
 },
 "nbformat": 4,
 "nbformat_minor": 2
}
